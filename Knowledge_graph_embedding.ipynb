{
  "nbformat": 4,
  "nbformat_minor": 0,
  "metadata": {
    "colab": {
      "provenance": [],
      "authorship_tag": "ABX9TyOuKxokW3hoC4e565XH+uya",
      "include_colab_link": true
    },
    "kernelspec": {
      "name": "python3",
      "display_name": "Python 3"
    },
    "language_info": {
      "name": "python"
    }
  },
  "cells": [
    {
      "cell_type": "markdown",
      "metadata": {
        "id": "view-in-github",
        "colab_type": "text"
      },
      "source": [
        "<a href=\"https://colab.research.google.com/github/AlinaTkachenko/knowledge_graph_embedding/blob/main/Knowledge_graph_embedding.ipynb\" target=\"_parent\"><img src=\"https://colab.research.google.com/assets/colab-badge.svg\" alt=\"Open In Colab\"/></a>"
      ]
    },
    {
      "cell_type": "markdown",
      "source": [
        "Base paper Knowledge Base Completion: Baselines Strike Back\n",
        "\n",
        "For evaluation, we use the filtered evaluation protocol proposed by Bordes et al. (2013).\n",
        "\n",
        "By default, the training loop uses the stochastic local closed world assumption (sLCWA) training approach and evaluates with rank-based evaluation.\n",
        "\n",
        "In our experiments we use two standard datasets WN18 derived from WordNet (Fellbaum, 1998) and FB15k derived from the Freebase knowledge graph\n",
        "\n",
        "yang2014_distmult_wn18.json"
      ],
      "metadata": {
        "id": "yBpDsTxZtG1G"
      }
    },
    {
      "cell_type": "markdown",
      "source": [
        "# Enviroment setup"
      ],
      "metadata": {
        "id": "3j79tW_Js_nH"
      }
    },
    {
      "cell_type": "code",
      "execution_count": 4,
      "metadata": {
        "id": "xC447KYqs2lM"
      },
      "outputs": [],
      "source": [
        "#pip install pykeen"
      ]
    },
    {
      "cell_type": "code",
      "source": [
        "import torch\n",
        "import matplotlib.pyplot as plt\n",
        "from pykeen.datasets import FB15k, Nations\n",
        "from pykeen.pipeline import pipeline\n",
        "from pykeen.models import DistMult, TransE, TransR, RESCAL\n",
        "from pykeen.training import SLCWATrainingLoop\n",
        "from pykeen.losses import NSSALoss\n",
        "from pykeen.regularizers import LpRegularizer\n",
        "from pykeen.evaluation import RankBasedEvaluator\n",
        "from pykeen.trackers import PythonResultTracker\n",
        "\n",
        "%matplotlib inline\n",
        "%config InlineBackend.figure_format = 'svg'"
      ],
      "metadata": {
        "colab": {
          "base_uri": "https://localhost:8080/"
        },
        "id": "hqldrcnStL96",
        "outputId": "8128a332-52c8-4598-fa35-aedfe4ebd2a3"
      },
      "execution_count": 2,
      "outputs": [
        {
          "output_type": "stream",
          "name": "stderr",
          "text": [
            "INFO:pykeen.utils:Using opt_einsum\n"
          ]
        }
      ]
    },
    {
      "cell_type": "markdown",
      "source": [
        "#Get started"
      ],
      "metadata": {
        "id": "b67RO8jgtTOv"
      }
    },
    {
      "cell_type": "code",
      "source": [],
      "metadata": {
        "id": "vRZ2O5WatWF-"
      },
      "execution_count": 2,
      "outputs": []
    }
  ]
}